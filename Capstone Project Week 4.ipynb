{
 "cells": [
  {
   "attachments": {},
   "cell_type": "markdown",
   "metadata": {},
   "source": [
    "# Find the Optimal Location to Open Chinese Restaurant in Toronto"
   ]
  },
  {
   "attachments": {},
   "cell_type": "markdown",
   "metadata": {},
   "source": [
    "### Introduction"
   ]
  },
  {
   "attachments": {},
   "cell_type": "markdown",
   "metadata": {},
   "source": [
    "For this Capstone project, I am providing a solution for people who want to open a Chinese restaurant in Toronto area. Because Chinese food is very popular and belongs to Asian food, the entrepreneur wants to open the restaurant in locations where many Asian restaurant around. My purpose is to find the most suitable location for the entrepreneur to open a Chinese restaurant in Toronto. "
   ]
  },
  {
   "attachments": {},
   "cell_type": "markdown",
   "metadata": {},
   "source": [
    "### Business Problem"
   ]
  },
  {
   "attachments": {},
   "cell_type": "markdown",
   "metadata": {},
   "source": [
    "The objective of this capstone project is to find the most suitable location for the entrepreneur to open a Chinese restaurant in Toronto, Canada. "
   ]
  },
  {
   "cell_type": "markdown",
   "metadata": {},
   "source": [
    "### Data"
   ]
  },
  {
   "attachments": {},
   "cell_type": "markdown",
   "metadata": {},
   "source": [
    "* List of neighborhoods in Toronto, China\n",
    "* Latitude and Longitude of Toronto\n",
    "* Venue data related to Asian restaurant\n",
    "\n",
    "Firstly, I will scrap Toronto neighborhoods via Wikipedia. Then, I need to get Latitude and Longitude data of these neighborhoods via Geocoder package. Finally, I will use Foursquare API to get venue data related to these neighborhoods. \n"
   ]
  }
 ],
 "metadata": {
  "kernelspec": {
   "display_name": "Python 3",
   "language": "python",
   "name": "python3"
  },
  "language_info": {
   "codemirror_mode": {
    "name": "ipython",
    "version": 3
   },
   "file_extension": ".py",
   "mimetype": "text/x-python",
   "name": "python",
   "nbconvert_exporter": "python",
   "pygments_lexer": "ipython3",
   "version": "3.7.3"
  }
 },
 "nbformat": 4,
 "nbformat_minor": 2
}
